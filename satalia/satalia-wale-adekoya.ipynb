{
 "cells": [
  {
   "cell_type": "markdown",
   "metadata": {
    "id": "OP_uXHGK0Q9d"
   },
   "source": [
    "# Bag of Words Text Classifier"
   ]
  },
  {
   "cell_type": "code",
   "execution_count": 1,
   "metadata": {
    "id": "rYJ7PiaO2R6Q",
    "ExecuteTime": {
     "end_time": "2023-09-21T18:18:31.987998300Z",
     "start_time": "2023-09-21T18:18:29.415862400Z"
    }
   },
   "outputs": [],
   "source": [
    "import torch\n",
    "import random\n",
    "import torch.nn as nn"
   ]
  },
  {
   "cell_type": "markdown",
   "metadata": {
    "id": "M3eH6PyS1Ykz"
   },
   "source": [
    "### Download the Data"
   ]
  },
  {
   "cell_type": "code",
   "execution_count": 2,
   "metadata": {
    "id": "F_lDByee1ddU",
    "ExecuteTime": {
     "end_time": "2023-09-21T18:18:33.263345500Z",
     "start_time": "2023-09-21T18:18:33.060015Z"
    }
   },
   "outputs": [],
   "source": [
    "%%capture\n",
    "\n",
    "# download the files\n",
    "!wget https://raw.githubusercontent.com/neubig/nn4nlp-code/master/data/classes/dev.txt\n",
    "!wget https://raw.githubusercontent.com/neubig/nn4nlp-code/master/data/classes/test.txt\n",
    "!wget https://raw.githubusercontent.com/neubig/nn4nlp-code/master/data/classes/train.txt\n",
    "\n",
    "# create the data folders\n",
    "# !mkdir data data/classes\n",
    "!cp dev.txt data/classes\n",
    "!cp test.txt data/classes\n",
    "!cp train.txt data/classes"
   ]
  },
  {
   "cell_type": "markdown",
   "metadata": {
    "id": "G9gihHeo0dK6"
   },
   "source": [
    "### Read the Data"
   ]
  },
  {
   "cell_type": "code",
   "execution_count": 3,
   "metadata": {
    "id": "YOYzmcLdzD8i",
    "ExecuteTime": {
     "end_time": "2023-09-21T18:18:35.817414500Z",
     "start_time": "2023-09-21T18:18:35.782413900Z"
    }
   },
   "outputs": [],
   "source": [
    "# function to read in data, process each line and split columns by \" ||| \"\n",
    "def read_data(filename):\n",
    "    data = []\n",
    "    with open(filename, 'r') as f:\n",
    "        for line in f:\n",
    "            line = line.lower().strip()\n",
    "            line = line.split(' ||| ')\n",
    "            data.append(line)\n",
    "    return data\n",
    "\n",
    "train_data = read_data('data/classes/train.txt')\n",
    "test_data = read_data('data/classes/test.txt')"
   ]
  },
  {
   "cell_type": "markdown",
   "metadata": {
    "id": "WEIAf06u2kZz"
   },
   "source": [
    "### Contruct the Vocab and Datasets"
   ]
  },
  {
   "cell_type": "code",
   "execution_count": 4,
   "metadata": {
    "id": "9MJHDqjT2qDu",
    "ExecuteTime": {
     "end_time": "2023-09-21T18:18:41.173386700Z",
     "start_time": "2023-09-21T18:18:41.160820500Z"
    }
   },
   "outputs": [
    {
     "name": "stdout",
     "output_type": "stream",
     "text": [
      "5 18648\n"
     ]
    }
   ],
   "source": [
    "# creating the word and tag indices\n",
    "word_to_index = {}\n",
    "word_to_index[\"<unk>\"] = len(word_to_index) # adds <UNK> to dictionary\n",
    "tag_to_index = {}\n",
    "\n",
    "# create word to index dictionary and tag to index dictionary from data\n",
    "def create_dict(data, check_unk=False):\n",
    "    for line in data:\n",
    "        for word in line[1].split(\" \"):\n",
    "            if check_unk == False:\n",
    "                if word not in word_to_index:\n",
    "                    word_to_index[word] = len(word_to_index)\n",
    "            else:\n",
    "                if word not in word_to_index:\n",
    "                    word_to_index[word] = word_to_index[\"<unk>\"]\n",
    "\n",
    "        if line[0] not in tag_to_index:\n",
    "            tag_to_index[line[0]] = len(tag_to_index)\n",
    "\n",
    "create_dict(train_data)\n",
    "create_dict(test_data, check_unk=True)\n",
    "\n",
    "# create word and tag tensors from data\n",
    "def create_tensor(data):\n",
    "    for line in data:\n",
    "        yield([word_to_index[word] for word in line[1].split(\" \")], tag_to_index[line[0]])\n",
    "\n",
    "train_data = list(create_tensor(train_data))\n",
    "test_data = list(create_tensor(test_data))\n",
    "\n",
    "number_of_words = len(word_to_index)\n",
    "number_of_tags = len(tag_to_index)\n",
    "print(number_of_tags, number_of_words)"
   ]
  },
  {
   "cell_type": "markdown",
   "metadata": {
    "id": "n-4FU9Ab2McP"
   },
   "source": [
    "### Model"
   ]
  },
  {
   "cell_type": "code",
   "execution_count": 5,
   "metadata": {
    "id": "Zt76PIzP0jWn",
    "ExecuteTime": {
     "end_time": "2023-09-21T18:18:45.074745100Z",
     "start_time": "2023-09-21T18:18:45.065144400Z"
    }
   },
   "outputs": [],
   "source": [
    "# cpu or gpu\n",
    "device = \"cuda\" if torch.cuda.is_available() else \"cpu\"\n",
    "\n",
    "# create a simple neural network with embedding layer, bias, and xavier initialization\n",
    "class BoW(torch.nn.Module):\n",
    "    def __init__(self, nwords, ntags):\n",
    "        super(BoW, self).__init__()\n",
    "        self.embedding = nn.Embedding(nwords, ntags)\n",
    "        nn.init.xavier_uniform_(self.embedding.weight)\n",
    "\n",
    "        type = torch.cuda.FloatTensor if torch.cuda.is_available() else torch.FloatTensor\n",
    "        self.bias = torch.zeros(ntags, requires_grad=True).type(type)\n",
    "\n",
    "    def forward(self, x):\n",
    "        emb = self.embedding(x) # seq_len x ntags (for each seq)\n",
    "        out = torch.sum(emb, dim=0) + self.bias # ntags\n",
    "        out = out.view(1, -1) # reshape to (1, ntags)\n",
    "        return out"
   ]
  },
  {
   "cell_type": "markdown",
   "metadata": {
    "id": "Mi4FNOy02Z1t"
   },
   "source": [
    "### Pretest the Model"
   ]
  },
  {
   "cell_type": "code",
   "execution_count": 6,
   "metadata": {
    "colab": {
     "base_uri": "https://localhost:8080/"
    },
    "id": "pn_LCZJv2Osz",
    "outputId": "5c6fb967-dc4e-410d-fb23-406e0031501b",
    "ExecuteTime": {
     "end_time": "2023-09-21T18:18:48.522104900Z",
     "start_time": "2023-09-21T18:18:48.475047700Z"
    }
   },
   "outputs": [
    {
     "data": {
      "text/plain": "tensor([[-0.0210,  0.0237, -0.0097,  0.0093,  0.0023]],\n       grad_fn=<ViewBackward0>)"
     },
     "execution_count": 6,
     "metadata": {},
     "output_type": "execute_result"
    }
   ],
   "source": [
    "# function to convert sentence into tensor using word_to_index dictionary\n",
    "def sentence_to_tensor(sentence):\n",
    "    return torch.LongTensor([word_to_index[word] for word in sentence.split(\" \")])\n",
    "\n",
    "# test the sentence_to_tensor function\n",
    "type = torch.cuda.LongTensor if torch.cuda.is_available() else torch.LongTensor\n",
    "out = sentence_to_tensor(\"i love dogs\").type(type)\n",
    "test_model = BoW(number_of_words, number_of_tags).to(device)\n",
    "test_model(out)"
   ]
  },
  {
   "cell_type": "markdown",
   "metadata": {
    "id": "SH5r2Xzs21zB"
   },
   "source": [
    "### Train the Model"
   ]
  },
  {
   "cell_type": "code",
   "execution_count": 8,
   "metadata": {
    "colab": {
     "base_uri": "https://localhost:8080/"
    },
    "id": "f86xjDAi2bt8",
    "outputId": "e2aed2a6-aabb-4b92-b23e-216cff88e718",
    "ExecuteTime": {
     "end_time": "2023-09-21T18:20:43.274306600Z",
     "start_time": "2023-09-21T18:20:39.700498200Z"
    }
   },
   "outputs": [
    {
     "ename": "KeyboardInterrupt",
     "evalue": "",
     "output_type": "error",
     "traceback": [
      "\u001B[1;31m---------------------------------------------------------------------------\u001B[0m",
      "\u001B[1;31mKeyboardInterrupt\u001B[0m                         Traceback (most recent call last)",
      "Cell \u001B[1;32mIn[8], line 52\u001B[0m\n\u001B[0;32m     48\u001B[0m         \u001B[38;5;28mprint\u001B[39m(log)\n\u001B[0;32m     50\u001B[0m \u001B[38;5;66;03m# call the train_bow function\u001B[39;00m\n\u001B[0;32m     51\u001B[0m \u001B[38;5;66;03m# print(train_data)\u001B[39;00m\n\u001B[1;32m---> 52\u001B[0m \u001B[43mtrain_bow\u001B[49m\u001B[43m(\u001B[49m\u001B[43mmodel\u001B[49m\u001B[43m,\u001B[49m\u001B[43m \u001B[49m\u001B[43moptimizer\u001B[49m\u001B[43m,\u001B[49m\u001B[43m \u001B[49m\u001B[43mcriterion\u001B[49m\u001B[43m,\u001B[49m\u001B[43m \u001B[49m\u001B[43mtrain_data\u001B[49m\u001B[43m)\u001B[49m\n",
      "Cell \u001B[1;32mIn[8], line 28\u001B[0m, in \u001B[0;36mtrain_bow\u001B[1;34m(model, optimizer, criterion, train_data)\u001B[0m\n\u001B[0;32m     25\u001B[0m loss \u001B[38;5;241m=\u001B[39m criterion(output, tag)\n\u001B[0;32m     26\u001B[0m total_loss \u001B[38;5;241m+\u001B[39m\u001B[38;5;241m=\u001B[39m loss\u001B[38;5;241m.\u001B[39mitem()\n\u001B[1;32m---> 28\u001B[0m \u001B[43moptimizer\u001B[49m\u001B[38;5;241;43m.\u001B[39;49m\u001B[43mzero_grad\u001B[49m\u001B[43m(\u001B[49m\u001B[43m)\u001B[49m\n\u001B[0;32m     29\u001B[0m loss\u001B[38;5;241m.\u001B[39mbackward()\n\u001B[0;32m     30\u001B[0m optimizer\u001B[38;5;241m.\u001B[39mstep()\n",
      "File \u001B[1;32m~\\Documents\\AWS-Glue\\aws-dev-env\\lib\\site-packages\\torch\\optim\\optimizer.py:456\u001B[0m, in \u001B[0;36mOptimizer.zero_grad\u001B[1;34m(self, set_to_none)\u001B[0m\n\u001B[0;32m    454\u001B[0m \u001B[38;5;28;01mif\u001B[39;00m foreach:\n\u001B[0;32m    455\u001B[0m     per_device_and_dtype_grads \u001B[38;5;241m=\u001B[39m defaultdict(\u001B[38;5;28;01mlambda\u001B[39;00m: defaultdict(\u001B[38;5;28mlist\u001B[39m))\n\u001B[1;32m--> 456\u001B[0m \u001B[38;5;28;01mwith\u001B[39;00m torch\u001B[38;5;241m.\u001B[39mautograd\u001B[38;5;241m.\u001B[39mprofiler\u001B[38;5;241m.\u001B[39mrecord_function(\u001B[38;5;28mself\u001B[39m\u001B[38;5;241m.\u001B[39m_zero_grad_profile_name):\n\u001B[0;32m    457\u001B[0m     \u001B[38;5;28;01mfor\u001B[39;00m group \u001B[38;5;129;01min\u001B[39;00m \u001B[38;5;28mself\u001B[39m\u001B[38;5;241m.\u001B[39mparam_groups:\n\u001B[0;32m    458\u001B[0m         \u001B[38;5;28;01mfor\u001B[39;00m p \u001B[38;5;129;01min\u001B[39;00m group[\u001B[38;5;124m'\u001B[39m\u001B[38;5;124mparams\u001B[39m\u001B[38;5;124m'\u001B[39m]:\n",
      "File \u001B[1;32m~\\Documents\\AWS-Glue\\aws-dev-env\\lib\\site-packages\\torch\\autograd\\profiler.py:492\u001B[0m, in \u001B[0;36mrecord_function.__enter__\u001B[1;34m(self)\u001B[0m\n\u001B[0;32m    491\u001B[0m \u001B[38;5;28;01mdef\u001B[39;00m \u001B[38;5;21m__enter__\u001B[39m(\u001B[38;5;28mself\u001B[39m):\n\u001B[1;32m--> 492\u001B[0m     \u001B[38;5;28mself\u001B[39m\u001B[38;5;241m.\u001B[39mrecord \u001B[38;5;241m=\u001B[39m \u001B[43mtorch\u001B[49m\u001B[38;5;241;43m.\u001B[39;49m\u001B[43mops\u001B[49m\u001B[38;5;241;43m.\u001B[39;49m\u001B[43mprofiler\u001B[49m\u001B[38;5;241;43m.\u001B[39;49m\u001B[43m_record_function_enter_new\u001B[49m\u001B[43m(\u001B[49m\u001B[38;5;28;43mself\u001B[39;49m\u001B[38;5;241;43m.\u001B[39;49m\u001B[43mname\u001B[49m\u001B[43m,\u001B[49m\u001B[43m \u001B[49m\u001B[38;5;28;43mself\u001B[39;49m\u001B[38;5;241;43m.\u001B[39;49m\u001B[43margs\u001B[49m\u001B[43m)\u001B[49m\n\u001B[0;32m    493\u001B[0m     \u001B[38;5;28;01mreturn\u001B[39;00m \u001B[38;5;28mself\u001B[39m\n",
      "File \u001B[1;32m~\\Documents\\AWS-Glue\\aws-dev-env\\lib\\site-packages\\torch\\_ops.py:502\u001B[0m, in \u001B[0;36mOpOverloadPacket.__call__\u001B[1;34m(self, *args, **kwargs)\u001B[0m\n\u001B[0;32m    497\u001B[0m \u001B[38;5;28;01mdef\u001B[39;00m \u001B[38;5;21m__call__\u001B[39m(\u001B[38;5;28mself\u001B[39m, \u001B[38;5;241m*\u001B[39margs, \u001B[38;5;241m*\u001B[39m\u001B[38;5;241m*\u001B[39mkwargs):\n\u001B[0;32m    498\u001B[0m     \u001B[38;5;66;03m# overloading __call__ to ensure torch.ops.foo.bar()\u001B[39;00m\n\u001B[0;32m    499\u001B[0m     \u001B[38;5;66;03m# is still callable from JIT\u001B[39;00m\n\u001B[0;32m    500\u001B[0m     \u001B[38;5;66;03m# We save the function ptr as the `op` attribute on\u001B[39;00m\n\u001B[0;32m    501\u001B[0m     \u001B[38;5;66;03m# OpOverloadPacket to access it here.\u001B[39;00m\n\u001B[1;32m--> 502\u001B[0m     \u001B[38;5;28;01mreturn\u001B[39;00m \u001B[38;5;28mself\u001B[39m\u001B[38;5;241m.\u001B[39m_op(\u001B[38;5;241m*\u001B[39margs, \u001B[38;5;241m*\u001B[39m\u001B[38;5;241m*\u001B[39mkwargs \u001B[38;5;129;01mor\u001B[39;00m {})\n",
      "\u001B[1;31mKeyboardInterrupt\u001B[0m: "
     ]
    }
   ],
   "source": [
    "# train and test the BoW model\n",
    "model = BoW(number_of_words, number_of_tags).to(device)\n",
    "criterion = nn.CrossEntropyLoss()\n",
    "optimizer = torch.optim.Adam(model.parameters())\n",
    "type = torch.LongTensor\n",
    "\n",
    "if torch.cuda.is_available():\n",
    "    model.to(device)\n",
    "    type = torch.cuda.LongTensor\n",
    "\n",
    "# perform training of the Bow model\n",
    "def train_bow(model, optimizer, criterion, train_data):\n",
    "    for ITER in range(10):\n",
    "        # perform training\n",
    "        model.train()\n",
    "        random.shuffle(train_data)\n",
    "        total_loss = 0.0\n",
    "        train_correct = 0\n",
    "        for sentence, tag in train_data:\n",
    "            sentence = torch.tensor(sentence).type(type)\n",
    "            tag = torch.tensor([tag]).type(type)\n",
    "            output = model(sentence)\n",
    "            predicted = torch.argmax(output.data.detach()).item()\n",
    "\n",
    "            loss = criterion(output, tag)\n",
    "            total_loss += loss.item()\n",
    "\n",
    "            optimizer.zero_grad()\n",
    "            loss.backward()\n",
    "            optimizer.step()\n",
    "\n",
    "            if predicted == tag: train_correct+=1\n",
    "\n",
    "        # perform testing of the model\n",
    "        model.eval()\n",
    "        test_correct = 0\n",
    "        for sentence, tag in test_data:\n",
    "            sentence = torch.tensor(sentence).type(type)\n",
    "            output = model(sentence)\n",
    "            predicted = torch.argmax(output.data.detach()).item()\n",
    "            if predicted == tag: test_correct += 1\n",
    "\n",
    "        # print model performance results\n",
    "        log = f'ITER: {ITER+1} | ' \\\n",
    "            f'train loss/sent: {total_loss/len(train_data):.4f} | ' \\\n",
    "            f'train accuracy: {train_correct/len(train_data):.4f} | ' \\\n",
    "            f'test accuracy: {test_correct/len(test_data):.4f}'\n",
    "        print(log)\n",
    "\n",
    "# call the train_bow function\n",
    "# print(train_data)\n",
    "train_bow(model, optimizer, criterion, train_data)"
   ]
  },
  {
   "cell_type": "markdown",
   "metadata": {},
   "source": [
    "### Perform inference"
   ]
  },
  {
   "cell_type": "code",
   "execution_count": 10,
   "metadata": {
    "ExecuteTime": {
     "end_time": "2023-09-21T18:32:00.465663800Z",
     "start_time": "2023-09-21T18:32:00.400070400Z"
    }
   },
   "outputs": [
    {
     "ename": "KeyError",
     "evalue": "'I'",
     "output_type": "error",
     "traceback": [
      "\u001B[1;31m---------------------------------------------------------------------------\u001B[0m",
      "\u001B[1;31mKeyError\u001B[0m                                  Traceback (most recent call last)",
      "Cell \u001B[1;32mIn[10], line 53\u001B[0m\n\u001B[0;32m     50\u001B[0m device \u001B[38;5;241m=\u001B[39m \u001B[38;5;124m\"\u001B[39m\u001B[38;5;124mcuda\u001B[39m\u001B[38;5;124m\"\u001B[39m \u001B[38;5;28;01mif\u001B[39;00m torch\u001B[38;5;241m.\u001B[39mcuda\u001B[38;5;241m.\u001B[39mis_available() \u001B[38;5;28;01melse\u001B[39;00m \u001B[38;5;124m\"\u001B[39m\u001B[38;5;124mcpu\u001B[39m\u001B[38;5;124m\"\u001B[39m\n\u001B[0;32m     52\u001B[0m sample_sentence \u001B[38;5;241m=\u001B[39m \u001B[38;5;124m\"\u001B[39m\u001B[38;5;124mI love programming\u001B[39m\u001B[38;5;124m\"\u001B[39m\n\u001B[1;32m---> 53\u001B[0m predicted_tag \u001B[38;5;241m=\u001B[39m \u001B[43mperform_inference\u001B[49m\u001B[43m(\u001B[49m\u001B[43mmodel\u001B[49m\u001B[43m,\u001B[49m\u001B[43m \u001B[49m\u001B[43msample_sentence\u001B[49m\u001B[43m,\u001B[49m\u001B[43m \u001B[49m\u001B[43mword_to_index\u001B[49m\u001B[43m,\u001B[49m\u001B[43m \u001B[49m\u001B[43mtag_to_index\u001B[49m\u001B[43m,\u001B[49m\u001B[43m \u001B[49m\u001B[43mdevice\u001B[49m\u001B[43m)\u001B[49m\n\u001B[0;32m     54\u001B[0m \u001B[38;5;28mprint\u001B[39m(\u001B[38;5;124mf\u001B[39m\u001B[38;5;124m\"\u001B[39m\u001B[38;5;124mPredicted Tag: \u001B[39m\u001B[38;5;132;01m{\u001B[39;00mpredicted_tag\u001B[38;5;132;01m}\u001B[39;00m\u001B[38;5;124m\"\u001B[39m)\n",
      "Cell \u001B[1;32mIn[10], line 16\u001B[0m, in \u001B[0;36mperform_inference\u001B[1;34m(model, sentence, word_to_index, tag_to_index, device)\u001B[0m\n\u001B[0;32m      2\u001B[0m \u001B[38;5;250m\u001B[39m\u001B[38;5;124;03m\"\"\"\u001B[39;00m\n\u001B[0;32m      3\u001B[0m \u001B[38;5;124;03mPerform inference on the trained BoW model.\u001B[39;00m\n\u001B[0;32m      4\u001B[0m \n\u001B[1;32m   (...)\u001B[0m\n\u001B[0;32m     13\u001B[0m \u001B[38;5;124;03m    str: The predicted class/tag for the input sentence.\u001B[39;00m\n\u001B[0;32m     14\u001B[0m \u001B[38;5;124;03m\"\"\"\u001B[39;00m\n\u001B[0;32m     15\u001B[0m \u001B[38;5;66;03m# Preprocess the input sentence to match the model's input format\u001B[39;00m\n\u001B[1;32m---> 16\u001B[0m sentence_tensor \u001B[38;5;241m=\u001B[39m \u001B[43msentence_to_tensor\u001B[49m\u001B[43m(\u001B[49m\u001B[43msentence\u001B[49m\u001B[43m)\u001B[49m\n\u001B[0;32m     18\u001B[0m \u001B[38;5;66;03m# Move the input tensor to the same device as the model\u001B[39;00m\n\u001B[0;32m     19\u001B[0m sentence_tensor \u001B[38;5;241m=\u001B[39m sentence_tensor\u001B[38;5;241m.\u001B[39mto(device)\n",
      "Cell \u001B[1;32mIn[6], line 3\u001B[0m, in \u001B[0;36msentence_to_tensor\u001B[1;34m(sentence)\u001B[0m\n\u001B[0;32m      2\u001B[0m \u001B[38;5;28;01mdef\u001B[39;00m \u001B[38;5;21msentence_to_tensor\u001B[39m(sentence):\n\u001B[1;32m----> 3\u001B[0m     \u001B[38;5;28;01mreturn\u001B[39;00m torch\u001B[38;5;241m.\u001B[39mLongTensor([word_to_index[word] \u001B[38;5;28;01mfor\u001B[39;00m word \u001B[38;5;129;01min\u001B[39;00m sentence\u001B[38;5;241m.\u001B[39msplit(\u001B[38;5;124m\"\u001B[39m\u001B[38;5;124m \u001B[39m\u001B[38;5;124m\"\u001B[39m)])\n",
      "Cell \u001B[1;32mIn[6], line 3\u001B[0m, in \u001B[0;36m<listcomp>\u001B[1;34m(.0)\u001B[0m\n\u001B[0;32m      2\u001B[0m \u001B[38;5;28;01mdef\u001B[39;00m \u001B[38;5;21msentence_to_tensor\u001B[39m(sentence):\n\u001B[1;32m----> 3\u001B[0m     \u001B[38;5;28;01mreturn\u001B[39;00m torch\u001B[38;5;241m.\u001B[39mLongTensor([\u001B[43mword_to_index\u001B[49m\u001B[43m[\u001B[49m\u001B[43mword\u001B[49m\u001B[43m]\u001B[49m \u001B[38;5;28;01mfor\u001B[39;00m word \u001B[38;5;129;01min\u001B[39;00m sentence\u001B[38;5;241m.\u001B[39msplit(\u001B[38;5;124m\"\u001B[39m\u001B[38;5;124m \u001B[39m\u001B[38;5;124m\"\u001B[39m)])\n",
      "\u001B[1;31mKeyError\u001B[0m: 'I'"
     ]
    }
   ],
   "source": [
    "def perform_inference(model, sentence, word_to_index, tag_to_index, device):\n",
    "    \"\"\"\n",
    "    Perform inference on the trained BoW model.\n",
    "\n",
    "    Args:\n",
    "        model (torch.nn.Module): The trained BoW model.\n",
    "        sentence (str): The input sentence for inference.\n",
    "        word_to_index (dict): A dictionary mapping words to their indices.\n",
    "        tag_to_index (dict): A dictionary mapping tags to their indices.\n",
    "        device (str): \"cuda\" or \"cpu\" based on availability.\n",
    "\n",
    "    Returns:\n",
    "        str: The predicted class/tag for the input sentence.\n",
    "    \"\"\"\n",
    "    # Preprocess the input sentence to match the model's input format\n",
    "    sentence_tensor = sentence_to_tensor(sentence)\n",
    "\n",
    "    # Move the input tensor to the same device as the model\n",
    "    sentence_tensor = sentence_tensor.to(device)\n",
    "    \n",
    "    # Make sure the model is in evaluation mode and on the correct device\n",
    "    model.eval()\n",
    "    model.to(device)\n",
    "\n",
    "    # Perform inference\n",
    "    with torch.no_grad():\n",
    "        output = model(sentence_tensor)\n",
    "\n",
    "    # Move the output tensor to CPU if it's on CUDA\n",
    "    if device == \"cuda\":\n",
    "        output = output.cpu()\n",
    "\n",
    "    # Convert the model's output to a predicted class/tag\n",
    "    predicted_class = torch.argmax(output).item()\n",
    "\n",
    "    # Reverse lookup to get the tag corresponding to the predicted class\n",
    "    for tag, index in tag_to_index.items():\n",
    "        if index == predicted_class:\n",
    "            return tag\n",
    "\n",
    "    # Return an error message if the tag is not found\n",
    "    return \"Tag not found\"\n",
    "\n",
    "# Example usage:\n",
    "# Load your trained model (model) and dictionaries (word_to_index and tag_to_index) here\n",
    "# model = load_trained_model()\n",
    "# word_to_index, tag_to_index = load_dictionaries()\n",
    "\n",
    "# Determine the device based on availability\n",
    "device = \"cuda\" if torch.cuda.is_available() else \"cpu\"\n",
    "\n",
    "sample_sentence = \"I love programming\"\n",
    "predicted_tag = perform_inference(model, sample_sentence, word_to_index, tag_to_index, device)\n",
    "print(f\"Predicted Tag: {predicted_tag}\")"
   ]
  }
 ],
 "metadata": {
  "accelerator": "GPU",
  "colab": {
   "provenance": []
  },
  "kernelspec": {
   "name": "python3",
   "language": "python",
   "display_name": "Python 3 (ipykernel)"
  },
  "language_info": {
   "name": "python"
  }
 },
 "nbformat": 4,
 "nbformat_minor": 0
}
